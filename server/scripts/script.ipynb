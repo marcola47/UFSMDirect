{
 "cells": [
  {
   "cell_type": "code",
   "execution_count": 4,
   "metadata": {},
   "outputs": [],
   "source": [
    "import json\n",
    "\n",
    "with open('jobs.json',\"r\", encoding=\"utf-8\") as f:\n",
    "    jobs = json.load(f)\n",
    "\n",
    "with open('courses.json', 'r', encoding=\"utf-8\") as f:\n",
    "    courses = json.load(f)\n",
    "\n",
    "def verifica(id, courses):\n",
    "    for course in courses:\n",
    "        if course[\"id\"] == id:\n",
    "            return True\n",
    "    return False"
   ]
  },
  {
   "cell_type": "code",
   "execution_count": 5,
   "metadata": {},
   "outputs": [
    {
     "name": "stdout",
     "output_type": "stream",
     "text": [
      "Administrador de Bancos de Dados\n",
      "Acionamentos Elétricos\n",
      "Acionamentos Hidráulicos e Pneumáticos\n",
      "Administração de Sistemas de Redes\n",
      "Algoritmos e Lógica de Programação\n",
      "Algoritmos e Programação\n",
      "Algoritmos e Programação A\n",
      "Algoritmos e Programação B\n",
      "Análise e Projeto de Sistemas Orientados a Objetos\n",
      "Arquitetura de Computadores\n"
     ]
    }
   ],
   "source": [
    "for job in jobs:\n",
    "    print(job[\"name\"])\n",
    "    job[\"courses\"] = []\n",
    "    for course in courses:\n",
    "        if verifica(course[\"id\"], job[\"courses\"]) == False:\n",
    "            print(course[\"name\"])\n",
    "            importance = input(\"Importancia (1-10): \")\n",
    "\n",
    "            job[\"courses\"].append({\n",
    "                \"id\": course[\"id\"],\n",
    "                \"importance\": importance\n",
    "            })\n",
    "\n",
    "            if \"equilavents\" in course:\n",
    "                for equivalent in course[\"equilavents\"]:\n",
    "                    if equivalent not in job[\"courses\"]:\n",
    "                        job[\"courses\"].append({\n",
    "                            \"id\": equivalent,\n",
    "                            \"importance\": importance\n",
    "                        })\n",
    "        \n",
    "    \n",
    "    with open(f'{job[\"name\"]}.json', 'w', encoding=\"utf-8\") as f:\n",
    "        json.dump(job, f, ensure_ascii=False, indent=4)\n",
    "                        \n"
   ]
  }
 ],
 "metadata": {
  "kernelspec": {
   "display_name": "Python 3",
   "language": "python",
   "name": "python3"
  },
  "language_info": {
   "codemirror_mode": {
    "name": "ipython",
    "version": 3
   },
   "file_extension": ".py",
   "mimetype": "text/x-python",
   "name": "python",
   "nbconvert_exporter": "python",
   "pygments_lexer": "ipython3",
   "version": "3.11.3"
  },
  "orig_nbformat": 4
 },
 "nbformat": 4,
 "nbformat_minor": 2
}
